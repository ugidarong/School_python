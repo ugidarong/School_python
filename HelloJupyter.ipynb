{
 "cells": [
  {
   "cell_type": "markdown",
   "id": "a0a774dd-0ad5-4fe8-b9e6-49c58dc35769",
   "metadata": {},
   "source": [
    "print('Hello Jupyter')"
   ]
  },
  {
   "cell_type": "markdown",
   "id": "4e6c5875-3b85-4441-baf3-e98bf954fec4",
   "metadata": {},
   "source": [
    "# 이것은 표제이다\n",
    "\n",
    "이것은 단락이다. \n",
    "\n",
    "- 조항 쓰기도\n",
    "- 이렇게 표현할 수 있다.\n",
    "\n",
    "테이블도 기술할 수 있다.\n",
    "\n",
    "|Package    | Version\n",
    "|-----------|----------\n",
    "|pandas     | 0. 19. 2\n",
    "|matplotlib | 2. 0. 0"
   ]
  },
  {
   "cell_type": "markdown",
   "id": "fae6f459-e1e1-4c3d-a742-34c776ac633e",
   "metadata": {},
   "source": [
    "##표준 라이브러리 이용 방법\n",
    "이 Notebook에서는 python의 표준 라이브러리 이용 방법을 설명한다.\n",
    "표준 라이브러리를 이용할 때는 \"import\"문을 기술한다."
   ]
  },
  {
   "cell_type": "markdown",
   "id": "cc2a543e-856c-44ed-ae62-3c10543a9926",
   "metadata": {},
   "source": [
    "import math"
   ]
  },
  {
   "cell_type": "markdown",
   "id": "fdfca6b2-4a39-4356-999d-ce7df28085e9",
   "metadata": {},
   "source": [
    "\"import\"한 \"math\" 모듈을 사용한다."
   ]
  },
  {
   "cell_type": "code",
   "execution_count": 60,
   "id": "dbbdcfe5-2661-4b8b-a4aa-38e7021fae16",
   "metadata": {},
   "outputs": [
    {
     "name": "stdout",
     "output_type": "stream",
     "text": [
      "2.0\n"
     ]
    }
   ],
   "source": [
    "print(math.sqrt(4))"
   ]
  },
  {
   "cell_type": "markdown",
   "id": "7e97ac29-8181-4496-aee7-0abc905458d9",
   "metadata": {},
   "source": [
    "##수식표시\n",
    "이 코드 셀에는 다음과 같이 서식을 표현할 수 있다.\n",
    "\n",
    "\\begin{align}\n",
    "\\sqrt{2x-1}+(3+x)^3$\n",
    "\\end{align}\n",
    "\n",
    "$$ E = mc^2 $$\n",
    "\n",
    "인라인에서도 오른쪽에 쓰여진 것처럼 $\\sqrt{a^2+b^2}$ 기술할 수 있다."
   ]
  },
  {
   "cell_type": "markdown",
   "id": "e6c65bf2-b0c7-47ea-a3ee-0e30271a1d53",
   "metadata": {},
   "source": [
    "##Jupyter 기동 후 홈 하면이다.\n",
    "![jupyter-home.png](attachment:jupyter-home.png)"
   ]
  },
  {
   "cell_type": "code",
   "execution_count": 69,
   "id": "df9bbcf9-eb10-4c4d-9241-63b1eb779474",
   "metadata": {},
   "outputs": [
    {
     "data": {
      "text/plain": [
       "'C:\\\\Users\\\\scsoo'"
      ]
     },
     "execution_count": 69,
     "metadata": {},
     "output_type": "execute_result"
    }
   ],
   "source": [
    "%pwd"
   ]
  },
  {
   "cell_type": "code",
   "execution_count": 85,
   "id": "fa05c3b5-da86-48d2-8f71-290e94247e45",
   "metadata": {},
   "outputs": [
    {
     "name": "stdout",
     "output_type": "stream",
     "text": [
      "CPU times: total: 0 ns\n",
      "Wall time: 0 ns\n"
     ]
    },
    {
     "data": {
      "text/plain": [
       "49995000"
      ]
     },
     "execution_count": 85,
     "metadata": {},
     "output_type": "execute_result"
    }
   ],
   "source": [
    "%time \n",
    "sum(range(10000))"
   ]
  },
  {
   "cell_type": "code",
   "execution_count": 91,
   "id": "b3194760-ce6b-468a-827c-903cfb9b783f",
   "metadata": {},
   "outputs": [
    {
     "name": "stdout",
     "output_type": "stream",
     "text": [
      "715 μs ± 13.6 μs per loop (mean ± std. dev. of 7 runs, 1,000 loops each)\n"
     ]
    }
   ],
   "source": [
    "%timeit sum(range(10000))"
   ]
  },
  {
   "cell_type": "code",
   "execution_count": 93,
   "id": "1f73b14d-c311-4346-bf51-d997d4707042",
   "metadata": {},
   "outputs": [
    {
     "name": "stdout",
     "output_type": "stream",
     "text": [
      "732 μs ± 16.2 μs per loop (mean ± std. dev. of 5 runs, 2,000 loops each)\n"
     ]
    }
   ],
   "source": [
    "#루프횟수 : 2000회 , 시행 횟수 : 5회로 지정\n",
    "%timeit -n 2000 -r 5 sum(range(10000))"
   ]
  },
  {
   "cell_type": "code",
   "execution_count": 97,
   "id": "da108342-d770-4953-bab4-52dc7d732a90",
   "metadata": {},
   "outputs": [
    {
     "data": {
      "text/plain": [
       "499500"
      ]
     },
     "execution_count": 97,
     "metadata": {},
     "output_type": "execute_result"
    }
   ],
   "source": [
    "sum(range(1000))"
   ]
  },
  {
   "cell_type": "code",
   "execution_count": 105,
   "id": "aa57b2bf-c871-4799-9fa8-acda602d6a32",
   "metadata": {},
   "outputs": [
    {
     "name": "stdout",
     "output_type": "stream",
     "text": [
      "\n",
      "import json\n",
      "import getpass\n",
      "import hashlib\n",
      "\n",
      "def import_pandas_safely():\n",
      "    try:\n",
      "        return __import__('pandas')\n",
      "    except ImportError:\n",
      "        return False\n",
      "\n",
      "\n",
      "__pandas = import_pandas_safely()\n",
      "\n",
      "\n",
      "def is_data_frame(v: str):\n",
      "    obj = eval(v)\n",
      "    if  isinstance(obj, __pandas.core.frame.DataFrame) or isinstance(obj, __pandas.core.series.Series):\n",
      "        return True\n",
      "\n",
      "\n",
      "def dataframe_columns(var):\n",
      "    df = eval(var)\n",
      "    if isinstance(df, __pandas.core.series.Series):\n",
      "        return [[df.name, str(df.dtype)]]\n",
      "    return list(map(lambda col: [col, str(df[col].dtype)], df.columns))\n",
      "\n",
      "\n",
      "def dtypes_str(frame):\n",
      "    return str(eval(frame).dtypes)\n",
      "\n",
      "def dataframe_hash(var):\n",
      "    # Return a hash including the column names and number of rows\n",
      "    df = eval(var)\n",
      "    if isinstance(df, __pandas.core.series.Series):\n",
      "        return hashlib.sha256(f\"{var}-{df.name},{len(df)}\".encode('utf-8')).hexdigest()\n",
      "    return hashlib.sha256(f\"{var}-{','.join(df.columns)},{len(df)}\".encode('utf-8')).hexdigest()\n",
      "\n",
      "def get_dataframes():\n",
      "    if __pandas is None:\n",
      "        return []\n",
      "    user = getpass.getuser()\n",
      "    values = %who_ls\n",
      "    dataframes = [\n",
      "        {\n",
      "            \"name\": var,\n",
      "            \"type\": type(eval(var)).__name__,\n",
      "            \"hash\": dataframe_hash(var),\n",
      "            \"cols\": dataframe_columns(var),\n",
      "            \"dtypesStr\": dtypes_str(var),\n",
      "        }\n",
      "        for var in values if is_data_frame(var)\n",
      "    ]\n",
      "    result = {\"dataframes\": dataframes, \"user\": user}\n",
      "    return json.dumps(result, ensure_ascii=False)\n",
      "\n",
      "\n",
      "get_dataframes()\n",
      "%history -l 3\n",
      "\n",
      "import json\n",
      "import getpass\n",
      "import hashlib\n",
      "\n",
      "def import_pandas_safely():\n",
      "    try:\n",
      "        return __import__('pandas')\n",
      "    except ImportError:\n",
      "        return False\n",
      "\n",
      "\n",
      "__pandas = import_pandas_safely()\n",
      "\n",
      "\n",
      "def is_data_frame(v: str):\n",
      "    obj = eval(v)\n",
      "    if  isinstance(obj, __pandas.core.frame.DataFrame) or isinstance(obj, __pandas.core.series.Series):\n",
      "        return True\n",
      "\n",
      "\n",
      "def dataframe_columns(var):\n",
      "    df = eval(var)\n",
      "    if isinstance(df, __pandas.core.series.Series):\n",
      "        return [[df.name, str(df.dtype)]]\n",
      "    return list(map(lambda col: [col, str(df[col].dtype)], df.columns))\n",
      "\n",
      "\n",
      "def dtypes_str(frame):\n",
      "    return str(eval(frame).dtypes)\n",
      "\n",
      "def dataframe_hash(var):\n",
      "    # Return a hash including the column names and number of rows\n",
      "    df = eval(var)\n",
      "    if isinstance(df, __pandas.core.series.Series):\n",
      "        return hashlib.sha256(f\"{var}-{df.name},{len(df)}\".encode('utf-8')).hexdigest()\n",
      "    return hashlib.sha256(f\"{var}-{','.join(df.columns)},{len(df)}\".encode('utf-8')).hexdigest()\n",
      "\n",
      "def get_dataframes():\n",
      "    if __pandas is None:\n",
      "        return []\n",
      "    user = getpass.getuser()\n",
      "    values = %who_ls\n",
      "    dataframes = [\n",
      "        {\n",
      "            \"name\": var,\n",
      "            \"type\": type(eval(var)).__name__,\n",
      "            \"hash\": dataframe_hash(var),\n",
      "            \"cols\": dataframe_columns(var),\n",
      "            \"dtypesStr\": dtypes_str(var),\n",
      "        }\n",
      "        for var in values if is_data_frame(var)\n",
      "    ]\n",
      "    result = {\"dataframes\": dataframes, \"user\": user}\n",
      "    return json.dumps(result, ensure_ascii=False)\n",
      "\n",
      "\n",
      "get_dataframes()\n"
     ]
    }
   ],
   "source": [
    "%history -l 3"
   ]
  },
  {
   "cell_type": "code",
   "execution_count": 121,
   "id": "b30b6719-8817-4544-b6ba-3fa2daeb9021",
   "metadata": {},
   "outputs": [],
   "source": [
    "%matplotlib tk"
   ]
  },
  {
   "cell_type": "code",
   "execution_count": 124,
   "id": "54f4693e-3fcf-433f-8860-54cf140c1c38",
   "metadata": {},
   "outputs": [],
   "source": [
    "import numpy as np\n",
    "import matplotlib.pyplot as plt\n",
    "\n",
    "x = np.arange(0, 10, 0.2)\n",
    "y = np.sin(x)"
   ]
  },
  {
   "cell_type": "code",
   "execution_count": 128,
   "id": "8cb4cd5d-e07f-407c-b1a6-9870b8be9954",
   "metadata": {},
   "outputs": [],
   "source": [
    "fig = plt.figure()\n",
    "ax = fig.add_subplot(111)\n",
    "\n",
    "ax.plot(x,y)\n",
    "plt.show()"
   ]
  },
  {
   "cell_type": "code",
   "execution_count": null,
   "id": "b24a3342-ca88-434e-aa5e-cd1f7ca8e8f7",
   "metadata": {},
   "outputs": [],
   "source": []
  }
 ],
 "metadata": {
  "kernelspec": {
   "display_name": "Python 3 (ipykernel)",
   "language": "python",
   "name": "python3"
  },
  "language_info": {
   "codemirror_mode": {
    "name": "ipython",
    "version": 3
   },
   "file_extension": ".py",
   "mimetype": "text/x-python",
   "name": "python",
   "nbconvert_exporter": "python",
   "pygments_lexer": "ipython3",
   "version": "3.12.4"
  }
 },
 "nbformat": 4,
 "nbformat_minor": 5
}
