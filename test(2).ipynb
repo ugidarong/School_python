{
 "cells": [
  {
   "cell_type": "code",
   "execution_count": 1,
   "id": "4edd2011-947f-4006-9e03-51a504a0b170",
   "metadata": {},
   "outputs": [
    {
     "name": "stdout",
     "output_type": "stream",
     "text": [
      "랜덤 숫자: [16, 17, 10, 16, 20]\n",
      "제곱근 결과: [4.0, 4.1, 3.2, 4.0, 4.5]\n"
     ]
    }
   ],
   "source": [
    "import random\n",
    "import math\n",
    "\n",
    "# 10~20 범위에서랜덤으로 5개의 정수를 생성한 뒤, 각 정수의 제곱근 값을 계산하고, 소수 첫째 자리에서 반올림한 결과를 출력하세요.\n",
    "# 단, 결과는 리스트로 반환합니다.\n",
    "\n",
    "def generate_random_numbers():\n",
    "    return [random.randint(10, 20) for _ in range(5)]\n",
    "\n",
    "def calculate_sqrt(numbers):\n",
    "    return [round(math.sqrt(num), 1) for num in numbers]\n",
    "\n",
    "random_numbers = generate_random_numbers()\n",
    "sqrt_results = calculate_sqrt(random_numbers)\n",
    "\n",
    "print(\"랜덤 숫자:\", random_numbers)\n",
    "print(\"제곱근 결과:\", sqrt_results)\n"
   ]
  },
  {
   "cell_type": "code",
   "execution_count": 5,
   "id": "7fe15c2d-2a7a-4e32-84d8-9d3f0866b8f8",
   "metadata": {},
   "outputs": [
    {
     "name": "stdout",
     "output_type": "stream",
     "text": [
      "20세 이상 평균 점수: 85.8\n"
     ]
    }
   ],
   "source": [
    "import csv\n",
    "\n",
    "# 주어진 데이터에서 나이가 20이상인 행의 점수 평균 값을 계산하세요.\n",
    "# CSV 파일 'data.csv'는 다음과 같은 구조를 가집니다:\n",
    "# 이름,나이,점수\n",
    "# ex) 홍길동,25,88\n",
    "\n",
    "def read_csv(file_path):\n",
    "    with open(file_path, 'r', encoding='utf-8') as f:\n",
    "        reader = csv.reader(f)\n",
    "        header = next(reader)\n",
    "        data = [line for line in reader]\n",
    "    return header, data\n",
    "\n",
    "def calculate_average(data, min_age):\n",
    "    filtered_scores = [int(row[2]) for row in data if int(row[1]) > min_age]\n",
    "    return sum(filtered_scores) / len(filtered_scores)\n",
    "\n",
    "header, data = read_csv('data.csv')\n",
    "average_score = calculate_average(data, 20)\n",
    "\n",
    "print(\"20세 이상 평균 점수:\", average_score)\n"
   ]
  },
  {
   "cell_type": "code",
   "execution_count": 9,
   "id": "c07d06fe-9929-4ae3-ae92-912026da98d0",
   "metadata": {},
   "outputs": [
    {
     "name": "stdout",
     "output_type": "stream",
     "text": [
      "CSV 파일 생성 완료!\n"
     ]
    }
   ],
   "source": [
    "# data.csv 파일에 새로운 데이터를 추가할 수 있도록 코드의 빈칸을 채우세요.\n",
    "class Student:\n",
    "    def __init__(self, name, age, score):\n",
    "        self.name = name\n",
    "        self.age = age\n",
    "        self.score = score\n",
    "\n",
    "    def to_csv_format(self):\n",
    "        return \"\" % (self.name, self.age, self.score)\n",
    "\n",
    "students = [Student(\"채수빈\", 28, 85), Student(\"정나은\", 25, 92), Student(\"박성범\", 31, 78)]\n",
    "\n",
    "with open(\"data.csv\", 'w', encoding='utf-8') as f:\n",
    "    for student in students:\n",
    "        f.write(str(student) + \"\\n\")\n",
    "\n",
    "print(\"CSV 파일 생성 완료!\")\n"
   ]
  },
  {
   "cell_type": "code",
   "execution_count": 17,
   "id": "92784cbd-5845-4acb-ad0a-29aa385029d0",
   "metadata": {},
   "outputs": [
    {
     "ename": "IndexError",
     "evalue": "list index out of range",
     "output_type": "error",
     "traceback": [
      "\u001b[1;31m---------------------------------------------------------------------------\u001b[0m",
      "\u001b[1;31mIndexError\u001b[0m                                Traceback (most recent call last)",
      "Cell \u001b[1;32mIn[17], line 16\u001b[0m\n\u001b[0;32m     13\u001b[0m     \u001b[38;5;28mprint\u001b[39m(\u001b[38;5;124m\"\u001b[39m\u001b[38;5;124m평균 점수: \u001b[39m\u001b[38;5;132;01m%d\u001b[39;00m\u001b[38;5;124m\"\u001b[39m \u001b[38;5;241m%\u001b[39m (total_score \u001b[38;5;241m/\u001b[39m count))\n\u001b[0;32m     15\u001b[0m \u001b[38;5;66;03m# 실행 코드\u001b[39;00m\n\u001b[1;32m---> 16\u001b[0m calculate_average(\u001b[38;5;124m'\u001b[39m\u001b[38;5;124mdata.csv\u001b[39m\u001b[38;5;124m'\u001b[39m)\n",
      "Cell \u001b[1;32mIn[17], line 10\u001b[0m, in \u001b[0;36mcalculate_average\u001b[1;34m(file_name)\u001b[0m\n\u001b[0;32m      8\u001b[0m count \u001b[38;5;241m=\u001b[39m \u001b[38;5;241m0\u001b[39m\n\u001b[0;32m      9\u001b[0m \u001b[38;5;28;01mfor\u001b[39;00m line \u001b[38;5;129;01min\u001b[39;00m reader:\n\u001b[1;32m---> 10\u001b[0m     name, score \u001b[38;5;241m=\u001b[39m line[\u001b[38;5;241m0\u001b[39m], line[\u001b[38;5;241m2\u001b[39m]\n\u001b[0;32m     11\u001b[0m     total_score \u001b[38;5;241m+\u001b[39m\u001b[38;5;241m=\u001b[39m \u001b[38;5;28mint\u001b[39m(score)\n\u001b[0;32m     12\u001b[0m     count \u001b[38;5;241m+\u001b[39m\u001b[38;5;241m=\u001b[39m \u001b[38;5;241m1\u001b[39m\n",
      "\u001b[1;31mIndexError\u001b[0m: list index out of range"
     ]
    }
   ],
   "source": [
    "# 'data.csv' 파일에서 학생 이름과 점수를 읽고 평균 점수를 계산하여 출력하세요.\n",
    "\n",
    "def calculate_average(file_name):\n",
    "    with open(file_name, 'r', encoding='utf-8') as file:\n",
    "        reader = csv.reader(file)\n",
    "        header = next(reader)\n",
    "        total_score = 0\n",
    "        count = 0\n",
    "        for line in reader:\n",
    "            name, score = line[0], line[2]\n",
    "            total_score += int(score)\n",
    "            count += 1\n",
    "    print(\"평균 점수: %d\" % (total_score / count))\n",
    "\n",
    "# 실행 코드\n",
    "calculate_average('data.csv')\n"
   ]
  },
  {
   "cell_type": "code",
   "execution_count": 19,
   "id": "ec2a071a-65b6-4add-b4e1-44e22b0c5812",
   "metadata": {},
   "outputs": [
    {
     "name": "stdout",
     "output_type": "stream",
     "text": [
      "Parent.value: 1\n",
      "Child1.value: 5\n",
      "Child2.value: 10\n"
     ]
    }
   ],
   "source": [
    "# 코드를 보고 출력결과를 예측하세요.\n",
    "\n",
    "class Parent:\n",
    "    value = 0  # 클래스 변수\n",
    "\n",
    "class Child1(Parent):\n",
    "    pass\n",
    "\n",
    "class Child2(Parent):\n",
    "    pass\n",
    "\n",
    "# 실행 코드\n",
    "Child1.value = 5\n",
    "Child2.value = 10\n",
    "Parent.value = 1\n",
    "\n",
    "print(\"Parent.value: %d\" % Parent.value)  # 출력: ____\n",
    "print(\"Child1.value: %d\" % Child1.value)  # 출력: ____\n",
    "print(\"Child2.value: %d\" % Child2.value)  # 출력: ____\n"
   ]
  },
  {
   "cell_type": "code",
   "execution_count": 33,
   "id": "fd6d76fd-7abb-45bf-9023-67c836320689",
   "metadata": {},
   "outputs": [
    {
     "name": "stdout",
     "output_type": "stream",
     "text": [
      "현대 차량의 속도는 120km/h입니다.\n",
      "현대 자동차는 도로에서 120km/h로 주행합니다.\n",
      "현대 자동차는 휘발유를 사용합니다.\n"
     ]
    }
   ],
   "source": [
    "# 출력예시처럼 출력되게 코드를 수정하세요.\n",
    "# 현대 차량의 속도는 120km/h입니다.\n",
    "# 현대 자동차는 도로에서 120km/h로 주행합니다.\n",
    "# 현대 자동차는 휘발유를 사용합니다.\n",
    "\n",
    "class Vehicle:\n",
    "    def __init__(self, brand, speed):\n",
    "        self.brand = brand\n",
    "        self.speed = speed\n",
    "\n",
    "    def description(self):\n",
    "        print(\"%s 차량의 속도는 %dkm/h입니다.\" % (self.brand, self.speed))\n",
    "\n",
    "class Car(Vehicle):\n",
    "    def description(self):\n",
    "        super().description()\n",
    "        return \"%s 자동차는 도로에서 %dkm/h로 주행합니다.\" % (self.brand, self.speed)\n",
    "\n",
    "    def fuel_type(self):\n",
    "        return \"%s 자동차는 휘발유를 사용합니다.\" % self.brand\n",
    "\n",
    "# 실행 코드\n",
    "my_car = Car(\"현대\", 120)\n",
    "print(my_car.description())\n",
    "print(my_car.fuel_type())"
   ]
  },
  {
   "cell_type": "code",
   "execution_count": 45,
   "id": "d4f88ecd-3b4b-4430-b8f6-f3307118fc65",
   "metadata": {},
   "outputs": [
    {
     "name": "stdout",
     "output_type": "stream",
     "text": [
      "사각형의 면적은 50입니다.\n"
     ]
    }
   ],
   "source": [
    "# 출력예시처럼 나오도록 코드를 작성하세요.\n",
    "# 출력예시 : 사각형의 면적은 50입니다.\n",
    "\n",
    "class Shape:\n",
    "    def __init__(self, name):\n",
    "        self.name = name\n",
    "\n",
    "    def calculate_area(self):\n",
    "        return \"계산 불가\"\n",
    "\n",
    "class Rectangle(Shape):\n",
    "    def __init__(self, name, width, height):\n",
    "        super().__init__(name)\n",
    "        self.width = width\n",
    "        self.height = height\n",
    "\n",
    "    def calculate_area(self):\n",
    "        return self.width * self.height\n",
    "\n",
    "shape = Rectangle(\"사각형\", 10, 5)\n",
    "print(f\"{shape.name}의 면적은 {shape.calculate_area()}입니다.\")\n"
   ]
  },
  {
   "cell_type": "code",
   "execution_count": 47,
   "id": "f12240d0-fef8-442a-8b90-429112184721",
   "metadata": {},
   "outputs": [
    {
     "name": "stdout",
     "output_type": "stream",
     "text": [
      "c1.shared_value: 50\n",
      "c2.shared_value: 100\n",
      "Child.shared_value: 100\n",
      "Parent.shared_value: 10\n"
     ]
    }
   ],
   "source": [
    "# 코드를 보고 출력결과를 예측하세요.\n",
    "\n",
    "class Parent:\n",
    "    shared_value = 10\n",
    "\n",
    "    def __init__(self, unique_value):\n",
    "        self.unique_value = unique_value\n",
    "\n",
    "class Child(Parent):\n",
    "    pass\n",
    "\n",
    "# 실행 코드\n",
    "c1 = Child(20)\n",
    "c2 = Child(30)\n",
    "\n",
    "c1.shared_value = 50\n",
    "Child.shared_value = 100\n",
    "\n",
    "print(\"c1.shared_value: %d\" % c1.shared_value)  # 출력: ____\n",
    "print(\"c2.shared_value: %d\" % c2.shared_value)  # 출력: ____\n",
    "print(\"Child.shared_value: %d\" % Child.shared_value)  # 출력: ____\n",
    "print(\"Parent.shared_value: %d\" % Parent.shared_value)  # 출력: ____\n"
   ]
  },
  {
   "cell_type": "code",
   "execution_count": 51,
   "id": "0913672c-bf56-422c-b877-976ad6266c36",
   "metadata": {},
   "outputs": [
    {
     "name": "stdout",
     "output_type": "stream",
     "text": [
      "Parent.count: 4\n",
      "Child.count: 4\n"
     ]
    }
   ],
   "source": [
    "# 코드를 보고 출력결과를 예측하세요.\n",
    "\n",
    "class Parent:\n",
    "    count = 0\n",
    "\n",
    "    def __init__(self):\n",
    "        Parent.count += 1\n",
    "\n",
    "class Child(Parent):\n",
    "    pass\n",
    "\n",
    "# 실행 코드\n",
    "p1 = Parent()\n",
    "p2 = Parent()\n",
    "c1 = Child()\n",
    "c2 = Child()\n",
    "\n",
    "print(\"Parent.count: %d\" % Parent.count)  # 출력: ____\n",
    "print(\"Child.count: %d\" % Child.count)    # 출력: ____"
   ]
  },
  {
   "cell_type": "code",
   "execution_count": 55,
   "id": "563da48c-65ae-4452-bf99-753baad36fc7",
   "metadata": {},
   "outputs": [
    {
     "name": "stdout",
     "output_type": "stream",
     "text": [
      "함수 호출 전: [1, 2, 3]\n",
      "함수 내부 리스트: [100, 2, 3]\n",
      "함수 호출 후: [100, 2, 3]\n"
     ]
    }
   ],
   "source": [
    "# 코드를 보고 출력결과를 예측하세요.\n",
    "\n",
    "def reassign_list(lst):\n",
    "    lst = [7, 8, 9]  # 재할당\n",
    "    print(\"함수 내부 리스트: %s\" % lst)\n",
    "\n",
    "original_list = [1, 2, 3]\n",
    "print(\"함수 호출 전: %s\" % original_list)\n",
    "\n",
    "reassign_list(original_list)\n",
    "\n",
    "print(\"함수 호출 후: %s\" % original_list)\n",
    "\n",
    "# 예상 출력:\n",
    "# 함수 호출 전: ____________\n",
    "# 함수 내부 리스트: ____________\n",
    "# 함수 호출 후: ____________\n",
    "# 위와 같이 나오는 이유를 작성하세요 : ____________________________________________________"
   ]
  },
  {
   "cell_type": "code",
   "execution_count": 77,
   "id": "7daf0d54-343e-4ea8-badb-73ec8db65fe7",
   "metadata": {},
   "outputs": [
    {
     "name": "stdout",
     "output_type": "stream",
     "text": [
      "6\n",
      "20.0\n",
      "25\n"
     ]
    }
   ],
   "source": [
    "# 숫자 리스트와 연산 명령어를 전달받아 결과를 반환합니다.\n",
    "# 'sum' 명령어: 숫자의 합계 반환\n",
    "# 'avg' 명령어: 숫자의 평균 반환 (모듈 임포트로 해결)\n",
    "# 'max' 명령어: 숫자의 최댓값 반환\n",
    "\n",
    "import numpy\n",
    "\n",
    "def process_numbers(*args):\n",
    "    numbers = args[0:len(args)-1]\n",
    "    command = args[-1]\n",
    "    if command == \"sum\":\n",
    "        return sum(numbers)\n",
    "    elif command == \"avg\":\n",
    "        return numpy.mean(numbers)\n",
    "    elif command == \"max\":\n",
    "        return max(numbers)\n",
    "    else:\n",
    "        return \"알 수 없는 명령어입니다.\"\n",
    "\n",
    "# 실행 코드\n",
    "print(process_numbers(1, 2, 3, \"sum\"))  # 출력: 6\n",
    "print(process_numbers(10, 20, 30, \"avg\"))  # 출력: 20.0\n",
    "print(process_numbers(5, 15, 25, \"max\"))  # 출력: 25\n"
   ]
  },
  {
   "cell_type": "code",
   "execution_count": 91,
   "id": "b6d17a88-e8e6-4394-9488-4bfcd79df26e",
   "metadata": {},
   "outputs": [
    {
     "name": "stdout",
     "output_type": "stream",
     "text": [
      "생성된 리스트: [4, 23, 43, 26, 24]\n",
      "선택된 값: 26\n"
     ]
    }
   ],
   "source": [
    "# random 모듈을 별명 r로 가져와 난수 생성 및 리스트 작업을 수행하세요.\n",
    "# 난수는 1~50 사이의 숫자로 생성되도록 하세요.\n",
    "\n",
    "import random as r\n",
    "\n",
    "def process_random_data():\n",
    "    numbers = [r.randrange(1,51) for _ in range(5)]  # 난수 리스트 생성\n",
    "    r.shuffle(numbers)  # 리스트 섞기\n",
    "    val = r.choice(numbers)  # 임의의 값 선택\n",
    "    return numbers, val\n",
    "\n",
    "result = process_random_data()\n",
    "print(\"생성된 리스트: %s\" % result[0])\n",
    "print(\"선택된 값: %d\" % result[1])\n"
   ]
  },
  {
   "cell_type": "code",
   "execution_count": null,
   "id": "75bb7397-daf5-4cfd-8221-9957b00417df",
   "metadata": {},
   "outputs": [],
   "source": [
    "# random과 datetime 모듈을 각각 별칭으로 가져오고, 날짜와 난수를 혼합하여 작업하세요.\n",
    "\n",
    "import random ________\n",
    "from datetime import datetime ________\n",
    "\n",
    "def generate_random_dates():\n",
    "    today = dt.now()\n",
    "    random_offset = r.randint(________)  # 1~30일 사이의 랜덤 값\n",
    "    random_day = ________ + random_offset\n",
    "    return today.________('%Y-%m-%d'), random_day\n",
    "\n",
    "current_date, random_date = generate_random_dates()\n",
    "print(\"현재 날짜: %s\" % current_date) # 현재 날짜: 2024-12-07\n",
    "print(\"랜덤 날짜: %d\" % random_date) # 랜덤 날짜: 21\n"
   ]
  },
  {
   "cell_type": "code",
   "execution_count": 97,
   "id": "7fc52af9-2b2a-424a-b694-f5a1533f686d",
   "metadata": {},
   "outputs": [
    {
     "ename": "IndexError",
     "evalue": "list index out of range",
     "output_type": "error",
     "traceback": [
      "\u001b[1;31m---------------------------------------------------------------------------\u001b[0m",
      "\u001b[1;31mIndexError\u001b[0m                                Traceback (most recent call last)",
      "Cell \u001b[1;32mIn[97], line 16\u001b[0m\n\u001b[0;32m     13\u001b[0m             \u001b[38;5;28;01mif\u001b[39;00m \u001b[38;5;28mint\u001b[39m(line[\u001b[38;5;241m1\u001b[39m]) \u001b[38;5;241m>\u001b[39m\u001b[38;5;241m=\u001b[39m threshold:\n\u001b[0;32m     14\u001b[0m                 writer\u001b[38;5;241m.\u001b[39mwriterow(line)\n\u001b[1;32m---> 16\u001b[0m filter_data(\u001b[38;5;124m'\u001b[39m\u001b[38;5;124mdata.csv\u001b[39m\u001b[38;5;124m'\u001b[39m, \u001b[38;5;124m'\u001b[39m\u001b[38;5;124mfiltered.csv\u001b[39m\u001b[38;5;124m'\u001b[39m, \u001b[38;5;241m80\u001b[39m)\n\u001b[0;32m     17\u001b[0m \u001b[38;5;28mprint\u001b[39m(\u001b[38;5;124m\"\u001b[39m\u001b[38;5;124m필터링 완료: \u001b[39m\u001b[38;5;124m'\u001b[39m\u001b[38;5;124mfiltered.csv\u001b[39m\u001b[38;5;124m'\u001b[39m\u001b[38;5;124m 생성\u001b[39m\u001b[38;5;124m\"\u001b[39m)\n",
      "Cell \u001b[1;32mIn[97], line 13\u001b[0m, in \u001b[0;36mfilter_data\u001b[1;34m(input_file, output_file, threshold)\u001b[0m\n\u001b[0;32m     11\u001b[0m writer\u001b[38;5;241m.\u001b[39mwriterow([\u001b[38;5;124m'\u001b[39m\u001b[38;5;124m이름\u001b[39m\u001b[38;5;124m'\u001b[39m,\u001b[38;5;124m'\u001b[39m\u001b[38;5;124m나이\u001b[39m\u001b[38;5;124m'\u001b[39m,\u001b[38;5;124m'\u001b[39m\u001b[38;5;124m점수\u001b[39m\u001b[38;5;124m'\u001b[39m]) \n\u001b[0;32m     12\u001b[0m \u001b[38;5;28;01mfor\u001b[39;00m line \u001b[38;5;129;01min\u001b[39;00m reader:\n\u001b[1;32m---> 13\u001b[0m     \u001b[38;5;28;01mif\u001b[39;00m \u001b[38;5;28mint\u001b[39m(line[\u001b[38;5;241m1\u001b[39m]) \u001b[38;5;241m>\u001b[39m\u001b[38;5;241m=\u001b[39m threshold:\n\u001b[0;32m     14\u001b[0m         writer\u001b[38;5;241m.\u001b[39mwriterow(line)\n",
      "\u001b[1;31mIndexError\u001b[0m: list index out of range"
     ]
    }
   ],
   "source": [
    "# 'data.csv' 파일에서 점수가 80 이상인 데이터를 추출하여, 새 파일 'filtered.csv'에 저장하세요.\n",
    "\n",
    "import csv\n",
    "\n",
    "def filter_data(input_file, output_file, threshold):\n",
    "    with open(input_file, 'r', encoding='utf-8') as infile, \\\n",
    "         open(output_file, 'w', encoding='utf-8', newline='') as outfile:\n",
    "        reader = csv.reader(infile)\n",
    "        writer = csv.writer(outfile)\n",
    "        header = next(reader)\n",
    "        writer.writerow(['이름','나이','점수']) \n",
    "        for line in reader:\n",
    "            if int(line[1]) >= threshold:\n",
    "                writer.writerow(line)\n",
    "\n",
    "filter_data('data.csv', 'filtered.csv', 80)\n",
    "print(\"필터링 완료: 'filtered.csv' 생성\")\n"
   ]
  },
  {
   "cell_type": "code",
   "execution_count": null,
   "id": "ea2e6ec6-2d32-4986-a08b-23ed412b9e0d",
   "metadata": {},
   "outputs": [],
   "source": [
    "# 'students.csv'에서 학생 정보를 읽어, 평균 점수 이상인 학생만 필터링한 후 출력하는 프로그램을 작성하세요.\n",
    "\n",
    "import csv\n",
    "\n",
    "# 'students.csv' 파일 생성\n",
    "def create_students_csv(filename):\n",
    "    with open(filename, 'w', encoding='utf-8') as file:\n",
    "        writer = csv.____(file)\n",
    "        writer.________(['Name', 'Score1', 'Score2', 'Score3'])  # 헤더 작성\n",
    "        writer.________(['Alice', 85, 90, 88])\n",
    "        writer.________(['Bob', 70, 75, 80])\n",
    "        writer.________(['Charlie', 95, 92, 96])\n",
    "        writer.________(['Diana', 60, 65, 68])\n",
    "        writer.________(['Eve', 78, 82, 79])\n",
    "\n",
    "# 학생 클래스\n",
    "class Student:\n",
    "    def __init__(self, name, scores):\n",
    "        self.name = name\n",
    "        self.scores = scores\n",
    "\n",
    "    def average(self):\n",
    "        return ____(self.scores) / ____(self.scores)\n",
    "\n",
    "# 필터링 클래스\n",
    "class StudentFilter:\n",
    "    def __init__(self, filename):\n",
    "        self.filename = filename\n",
    "\n",
    "    def filter_high_scores(self, threshold):\n",
    "        with open(self.filename, '____', encoding='utf-8') as file:\n",
    "            reader = csv.____(file)\n",
    "            ________________\n",
    "            for line in reader:\n",
    "                name = line[0]\n",
    "                scores = list(map(int, line[1:]))\n",
    "                # 위 코드에 대한 설명 : ____________________________\n",
    "                student = Student(name, scores)\n",
    "                if ________________ >= threshold:\n",
    "                    print(\"%s: 평균 점수 %.2f\" % (____________________________))\n",
    "\n",
    "# 실행 코드\n",
    "filename = 'students.csv'\n",
    "create_students_csv(filename)  # CSV 파일 생성\n",
    "filter_obj = ________(filename)  # 필터 객체 생성\n",
    "filter_obj.____________  # 평균 점수 70 이상 학생 출력\n"
   ]
  },
  {
   "cell_type": "code",
   "execution_count": null,
   "id": "56a9ebe3-28d0-4881-a103-30947218932c",
   "metadata": {},
   "outputs": [],
   "source": [
    "# 현재 날짜를 기준으로 임의의 날짜를 생성하고, 그 날짜에 해당하는 요일을 출력하세요.\n",
    "# 난수 범위 : 1~30\n",
    "\n",
    "import ____ as r\n",
    "from ____ import datetime as dt\n",
    "\n",
    "def random_date():\n",
    "    today = dt.now()\n",
    "    random_offset = r.randrange(________)\n",
    "    future_date = today + random_offset\n",
    "    return future_date.strftime(____)\n",
    "\n",
    "print(\"랜덤 날짜: %s\" % random_date()) # 예시 : 2024-12-26 (Thursday)\n"
   ]
  },
  {
   "cell_type": "code",
   "execution_count": null,
   "id": "65abf993-4ad0-40eb-a902-5402e290e872",
   "metadata": {},
   "outputs": [],
   "source": [
    "# 'scores.csv'에서 학생 정보를 읽어 학과별 평균 점수를 계산하고, 결과를 새 파일 'averages.csv'에 저장하세요.\n",
    "\n",
    "import csv\n",
    "\n",
    "class Department:\n",
    "    def __init__(self, name):\n",
    "        self.name = name\n",
    "        self.scores = []\n",
    "\n",
    "    def add_score(self, score):\n",
    "        self.scores.append(score)\n",
    "\n",
    "    def average_score(self):\n",
    "        return sum(self.scores) / len(self.scores)\n",
    "\n",
    "class University:\n",
    "    def __init__(self, input_file):\n",
    "        self.input_file = input_file\n",
    "        self.departments = {}\n",
    "\n",
    "    def calculate_averages(self, output_file):\n",
    "        with open(______________, 'r', encoding='utf-8') as infile, open(output_file, 'w', encoding='utf-8') as outfile:\n",
    "            reader = csv.________(infile)\n",
    "            writer = csv.________(outfile)\n",
    "            \n",
    "            self.heder = ________________\n",
    "            writer.writerow(________________)\n",
    "            \n",
    "            for line in reader:\n",
    "                dept_name = line[____]\n",
    "                score = int(line[____])\n",
    "                if dept_name not in self.departments:\n",
    "                    self.departments[dept_name] = Department(dept_name)\n",
    "                self.departments[dept_name].________(score)\n",
    "                \n",
    "            for dept in self.departments.values():\n",
    "                writer.writerow([____, dept.average_score()])\n",
    "\n",
    "univ = University('scores.csv')\n",
    "univ.calculate_averages('averages.csv')\n",
    "print(\"학과별 평균 점수 계산 완료!\")\n"
   ]
  },
  {
   "cell_type": "code",
   "execution_count": null,
   "id": "0a4bec81-3cf0-4b5c-b4c8-fd2177d537b4",
   "metadata": {},
   "outputs": [],
   "source": [
    "# 사용자가 입력한 반지름 값을 이용해 원의 둘레와 면적을 계산하세요.\n",
    "# 단, 반지름이 음수이면 다시 입력받아야 합니다.\n",
    "# 결과는 소숫점 2자리로 표시\n",
    "\n",
    "import math\n",
    "\n",
    "def calculate_circle_properties():\n",
    "    while True:\n",
    "        radius = _________________________\n",
    "        if radius >= ____:\n",
    "            circumference = 2 * math.pi * radius\n",
    "            area = math.pi * ________________\n",
    "            print(\"원의 둘레: ____, 원의 면적: ____\" % (circumference, area))\n",
    "            break\n",
    "        else:\n",
    "            print(\"반지름은 양수여야 합니다. 다시 입력하세요.\")\n",
    "\n",
    "# 실행 코드\n",
    "calculate_circle_properties()\n"
   ]
  }
 ],
 "metadata": {
  "kernelspec": {
   "display_name": "Python 3 (ipykernel)",
   "language": "python",
   "name": "python3"
  },
  "language_info": {
   "codemirror_mode": {
    "name": "ipython",
    "version": 3
   },
   "file_extension": ".py",
   "mimetype": "text/x-python",
   "name": "python",
   "nbconvert_exporter": "python",
   "pygments_lexer": "ipython3",
   "version": "3.12.4"
  }
 },
 "nbformat": 4,
 "nbformat_minor": 5
}
