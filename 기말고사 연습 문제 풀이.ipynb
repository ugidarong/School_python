{
 "cells": [
  {
   "cell_type": "code",
   "execution_count": 9,
   "id": "ab5d5555-95a9-4d26-aae0-6aaf4e6c466a",
   "metadata": {},
   "outputs": [
    {
     "name": "stdout",
     "output_type": "stream",
     "text": [
      "습도의 표준편차 :  4.08248290463863\n"
     ]
    }
   ],
   "source": [
    "#아래 코드를 완성하여 jeju_2019에서 습도의 표준편차를 계산하시오\n",
    "import csv\n",
    "import numpy as np\n",
    "\n",
    "with open(\"jeju_2019.csv\",'r',encoding = \"utf-8\") as f:\n",
    "    reader = csv.reader(f)\n",
    "    next(reader)\n",
    "    humidity = [int(row[4]) for row in reader]\n",
    "\n",
    "std_dev = np.std(humidity)\n",
    "print(\"습도의 표준편차 : \", std_dev)"
   ]
  },
  {
   "cell_type": "code",
   "execution_count": 19,
   "id": "d895198a-45db-4482-bf34-637dd0f1d451",
   "metadata": {},
   "outputs": [
    {
     "name": "stdout",
     "output_type": "stream",
     "text": [
      "중앙약국:3000\n",
      "행복약국:2500\n",
      "건강약국:2800\n"
     ]
    }
   ],
   "source": [
    "#아래 코드를 완성하여 약국명과 반올림된 매출 정보를 : 으로 구분하시오\n",
    "import csv\n",
    "import math\n",
    "\n",
    "with open(\"pharm_2019.csv\",\"r\",encoding = \"utf-8\") as f:\n",
    "    reader = csv.reader(f)\n",
    "    next(reader)\n",
    "    for row in reader:\n",
    "        rounded_sales = str(row[2])\n",
    "        print(row[0] + \":\" + rounded_sales)"
   ]
  },
  {
   "cell_type": "code",
   "execution_count": 25,
   "id": "eba237e0-00ad-4203-ae41-4b383a777680",
   "metadata": {},
   "outputs": [
    {
     "name": "stdout",
     "output_type": "stream",
     "text": [
      "Samsung, WIFI : 지원됨\n",
      "400 + 원격 제어 가능\n"
     ]
    }
   ],
   "source": [
    "#아래 코드를 완성하여 상속 계층 내의 메소드 동작을 비교하고, 부모 클래스와 자식 클래서...\n",
    "class Appliance:\n",
    "    def __init__(self,brand):\n",
    "        self.brand = brand\n",
    "\n",
    "    def describe(self):\n",
    "        return f\"브랜드 : {self.brand}\"\n",
    "\n",
    "    def action(self):\n",
    "        return \"기본 작동\"\n",
    "\n",
    "class Refrigerator(Appliance):\n",
    "    def __init__(self, brand, capacity):\n",
    "        super().__init__(brand)\n",
    "        self.capacity = capacity\n",
    "\n",
    "    def describe(self):\n",
    "        return f\"{self.brand}, 용량 : {self.capacity}\"\n",
    "\n",
    "    def action(self):\n",
    "        return \"냉장중\"\n",
    "\n",
    "class SmartRefrigerator(Refrigerator):\n",
    "    def __init__(self,brand,capacity,wifi_enabled):\n",
    "        super().__init__(brand,capacity)\n",
    "        self.wifi_enabled = wifi_enabled\n",
    "\n",
    "    def describe(self):\n",
    "        base_desc = self.brand\n",
    "        wifi_status = \"지원됨\" if self.wifi_enabled else \"지원되지 않음\"\n",
    "        return f\"{base_desc}, WIFI : {wifi_status}\"\n",
    "\n",
    "    def action(self):\n",
    "        return f\"{self.capacity} + 원격 제어 가능\"\n",
    "\n",
    "fridge = SmartRefrigerator(\"Samsung\", 400, True)\n",
    "print(fridge.describe())\n",
    "print(fridge.action())"
   ]
  },
  {
   "cell_type": "code",
   "execution_count": 27,
   "id": "997df1f7-cc0c-4987-a318-fbfe8b8c0638",
   "metadata": {},
   "outputs": [
    {
     "name": "stdout",
     "output_type": "stream",
     "text": [
      "이름 :  김철수\n",
      "나이 :  30\n",
      "부서 :  개발팀\n"
     ]
    }
   ],
   "source": [
    "#아래 코드를 완성하여 자식 클래스의 생성자를 구현하세요.\n",
    "class Person:\n",
    "    def __init__(self, name, age):\n",
    "        self.name = name\n",
    "        self.age = age\n",
    "\n",
    "class Employee(Person):\n",
    "    def __init__(self,name,age,department):\n",
    "        super().__init__(name,age)\n",
    "        self.department = department\n",
    "\n",
    "    def printDetails(self):\n",
    "        print(\"이름 : \", self.name)\n",
    "        print(\"나이 : \",self.age)\n",
    "        print(\"부서 : \",self.department)\n",
    "\n",
    "emp = Employee(\"김철수\", 30, \"개발팀\")\n",
    "emp.printDetails()"
   ]
  },
  {
   "cell_type": "code",
   "execution_count": 35,
   "id": "22984280-a69b-4ee7-aca9-59bca199096f",
   "metadata": {},
   "outputs": [
    {
     "name": "stdout",
     "output_type": "stream",
     "text": [
      "랜덤숫자 : 5, 제곱근 : 2.24, 팩토리얼 : 120\n"
     ]
    }
   ],
   "source": [
    "#모듈의 별칭을 활용하여 여러 함수를 호출하는 코드를 완성하세요.\n",
    "import math as m\n",
    "import random as r\n",
    "\n",
    "#2~8 사이의 난수\n",
    "rand_num = r.randint(2,8)\n",
    "#rand_num의 제곱근\n",
    "sqrt_value = m.sqrt(rand_num)\n",
    "#rand_num 의 팩토리얼\n",
    "factorial_value = m.factorial(rand_num)\n",
    "print(\"랜덤숫자 : %d, 제곱근 : %.2f, 팩토리얼 : %d\"%(rand_num, sqrt_value, factorial_value))\n"
   ]
  },
  {
   "cell_type": "code",
   "execution_count": 72,
   "id": "e44e6a74-217c-4368-8def-9ad2e59549b5",
   "metadata": {},
   "outputs": [
    {
     "name": "stdout",
     "output_type": "stream",
     "text": [
      "나 : 가위, 컴퓨터 : 보 -> 플레이어 승리!\n"
     ]
    }
   ],
   "source": [
    "#가위바위보 게임을 구현하여 결과를 출력하는 코드를 완성하세요.\n",
    "import random\n",
    "\n",
    "def whoWin(me,you):\n",
    "    if me == you:\n",
    "        return \"무승부!\"\n",
    "    elif (me == \"가위\" and you == \"보\") or (me == '바위' and you == '가위') or (me == '보' and you == '바위'):\n",
    "        return \"플레이어 승리!\"\n",
    "    else:\n",
    "        return \"컴퓨터 승리!\"\n",
    "\n",
    "options = ['가위', '바위', '보']\n",
    "me = random.choice(options)\n",
    "you = random.choice(options)\n",
    "result = whoWin(me, you)\n",
    "print(\"나 : %s, 컴퓨터 : %s -> %s\"%(me, you, result))"
   ]
  },
  {
   "cell_type": "code",
   "execution_count": 74,
   "id": "66fcc28a-e487-4624-88a8-637b09998565",
   "metadata": {},
   "outputs": [
    {
     "name": "stdout",
     "output_type": "stream",
     "text": [
      "sin(파이) : 0.00\n",
      "cos(파이/2) : -1.00\n",
      "pi상수의 값 : 3.14159\n"
     ]
    }
   ],
   "source": [
    "#math 모듈의 삼각 함수와 상수를 활용하여 코드를 완성하세요.\n",
    "import math\n",
    "print(\"sin(파이) : %.2f\"%math.sin(math.pi))\n",
    "print(\"cos(파이/2) : %.2f\"%math.cos(math.pi))\n",
    "print(\"pi상수의 값 : %.5f\"%math.pi)"
   ]
  },
  {
   "cell_type": "code",
   "execution_count": 76,
   "id": "30168c41-5ba1-4aee-bcef-2c1456be3937",
   "metadata": {},
   "outputs": [
    {
     "name": "stdout",
     "output_type": "stream",
     "text": [
      "7은 홀수입니다.\n",
      "8은 짝수입니다.\n"
     ]
    }
   ],
   "source": [
    "#나머지 연산자를 활용하여 짝수와 홀수를 구분하는 함수를 완성하세요.\n",
    "def even_or_odd(num):\n",
    "    if num%2 == 0:\n",
    "        return \"%d은 짝수입니다.\"%num\n",
    "    else:\n",
    "        return \"%d은 홀수입니다.\"%num\n",
    "\n",
    "print(even_or_odd(7))\n",
    "print(even_or_odd(8))"
   ]
  },
  {
   "cell_type": "code",
   "execution_count": 86,
   "id": "50ffad2e-777d-4bc4-804e-393f97826554",
   "metadata": {},
   "outputs": [
    {
     "name": "stdout",
     "output_type": "stream",
     "text": [
      "2\n"
     ]
    }
   ],
   "source": [
    "#예상 출력결과가 나올 수 있도록 빈칸을 채우세요.\n",
    "count = 0\n",
    "\n",
    "def increment():\n",
    "    global count\n",
    "    count+=1\n",
    "\n",
    "increment()\n",
    "increment()\n",
    "print(count)"
   ]
  },
  {
   "cell_type": "code",
   "execution_count": 98,
   "id": "02912063-4d28-46de-a0cb-d7c66de49ba8",
   "metadata": {},
   "outputs": [
    {
     "name": "stdout",
     "output_type": "stream",
     "text": [
      "[['중앙약국', '서울', '3000'], ['행복약국', '부산', '2500'], ['건강약국', '대구', '2800']]\n",
      "['행복약국', '부산', '2500']\n",
      "['건강약국', '대구', '2800']\n",
      "['중앙약국', '서울', '3000']\n"
     ]
    }
   ],
   "source": [
    "#아래 코드를 완성하여 pharm_2019에서 3개의 랜덤 약국 정보를 출력하세요\n",
    "import csv\n",
    "import random\n",
    "\n",
    "with open(\"pharm_2019.csv\",\"r\",encoding = \"utf-8\") as f:\n",
    "    reader = csv.reader(f)\n",
    "    data = list(reader)[1:]\n",
    "\n",
    "random_sample = random.sample(data,3)\n",
    "for row in random_sample:\n",
    "    print(row)"
   ]
  },
  {
   "cell_type": "code",
   "execution_count": 108,
   "id": "573b6a6d-f6cb-4a1b-bcc2-191fab07a65f",
   "metadata": {},
   "outputs": [
    {
     "name": "stdout",
     "output_type": "stream",
     "text": [
      "LG, Wi-Fi : 지원됨\n",
      "LG 세탁기가 빨래를 시작합니다.\n",
      "LG 세탁기를 원격으로 시작합니다.\n"
     ]
    }
   ],
   "source": [
    "#아래 코드를 완성하여 Appliance 클래스 계층에서 하위 클래스의 독특한 동작을 구현하시오\n",
    "class Appliance:\n",
    "    def __init__(self,brand,power):\n",
    "        self.brand = brand\n",
    "        self.power = power\n",
    "\n",
    "    def describe(self):\n",
    "        return f\"브랜드 : {self.brand}, 전력 소비 : {self.power}\"\n",
    "\n",
    "class WashingMachine(Appliance):\n",
    "    def __init__(self,brand,power,drum_size):\n",
    "        super().__init__(brand,power)\n",
    "        self.drum_size = drum_size\n",
    "\n",
    "    def describe(self):\n",
    "        base_desc = self.brand\n",
    "        return f\"{self.desc}, 드럼 크기 : {self.drum_size}\"\n",
    "\n",
    "    def wash(self):\n",
    "        return f\"{self.brand} 세탁기가 빨래를 시작합니다.\"\n",
    "\n",
    "class SmartWashingMachine(WashingMachine):\n",
    "    def __init__(self,brand,power,drum_size,wifi_enabled):\n",
    "        super().__init__(brand,power,drum_size)\n",
    "        self.wifi_enabled = wifi_enabled\n",
    "\n",
    "    def describe(self):\n",
    "        base_desc = self.brand\n",
    "        wifi_status = \"지원됨\" if self.wifi_enabled else \"지원되지 않음\"\n",
    "        return f\"{base_desc}, Wi-Fi : {wifi_status}\"\n",
    "\n",
    "    def remote_smart(self):\n",
    "        return f\"{self.brand} 세탁기를 원격으로 시작합니다.\"\n",
    "\n",
    "smart_washer = SmartWashingMachine(\"LG\", 2000, 15 ,True)\n",
    "print(smart_washer.describe())\n",
    "print(smart_washer.wash())\n",
    "print(smart_washer.remote_smart())"
   ]
  },
  {
   "cell_type": "code",
   "execution_count": 184,
   "id": "42401cea-1695-4f80-b879-eb3e844de99c",
   "metadata": {},
   "outputs": [
    {
     "name": "stdout",
     "output_type": "stream",
     "text": [
      "난수 리스트 :  [1, 28, 19, 37, 32, 31, 24, 25, 7, 24]\n",
      "짝수 리스트 :  [28, 32, 24, 24]\n"
     ]
    }
   ],
   "source": [
    "#Random 모듈의 여러 함수를 활용해 특정 조건을 만족하는 리스트를 생성하세요.\n",
    "import random\n",
    "\n",
    "#1~50 사이의 난수 10개 생성\n",
    "rand_numbers = [random.randrange(51) for _ in range(10)]\n",
    "#짝수만 필터링\n",
    "even_numbers = [num for num in rand_numbers if num%2 == 0]\n",
    "print(\"난수 리스트 : \",rand_numbers)\n",
    "print(\"짝수 리스트 : \",even_numbers)"
   ]
  },
  {
   "cell_type": "code",
   "execution_count": 186,
   "id": "3bac500d-cebd-4376-b4de-9a0a9909456b",
   "metadata": {},
   "outputs": [
    {
     "name": "stdout",
     "output_type": "stream",
     "text": [
      "inner x :  30\n",
      "outer x :  20\n",
      "global x :  30\n"
     ]
    }
   ],
   "source": [
    "x = 10\n",
    "\n",
    "def outer():\n",
    "    x = 20\n",
    "\n",
    "    def inner():\n",
    "        global x\n",
    "        x = 30\n",
    "        print(\"inner x : \", x)\n",
    "\n",
    "    inner()\n",
    "    print(\"outer x : \",x)\n",
    "\n",
    "outer()\n",
    "print(\"global x : \",x)"
   ]
  },
  {
   "cell_type": "code",
   "execution_count": 192,
   "id": "c5fa5bc9-1c1c-4b4e-870d-24b5cd3709a6",
   "metadata": {},
   "outputs": [
    {
     "name": "stdout",
     "output_type": "stream",
     "text": [
      "반지름 5의 면적 :  78.5\n",
      "반지름 10의 면적 :  314.0\n"
     ]
    }
   ],
   "source": [
    "#아래 코드를 완성하여 객체를 활용하세요.\n",
    "class Circle:\n",
    "    def __init__(self, radius):\n",
    "        self.radius = radius\n",
    "\n",
    "    def area(self):\n",
    "        return 3.14 * self.radius ** 2\n",
    "\n",
    "c1 = Circle(5)\n",
    "c2 = Circle(10)\n",
    "\n",
    "print(\"반지름 5의 면적 : \", c1.area())\n",
    "print(\"반지름 10의 면적 : \", c2.area())"
   ]
  },
  {
   "cell_type": "code",
   "execution_count": 206,
   "id": "a4aad625-e1e8-4a95-b0fe-03138b4520ae",
   "metadata": {},
   "outputs": [
    {
     "ename": "UnicodeDecodeError",
     "evalue": "'utf-8' codec can't decode bytes in position 15-16: invalid continuation byte",
     "output_type": "error",
     "traceback": [
      "\u001b[1;31m---------------------------------------------------------------------------\u001b[0m",
      "\u001b[1;31mUnicodeDecodeError\u001b[0m                        Traceback (most recent call last)",
      "Cell \u001b[1;32mIn[206], line 6\u001b[0m\n\u001b[0;32m      4\u001b[0m \u001b[38;5;28;01mwith\u001b[39;00m \u001b[38;5;28mopen\u001b[39m(\u001b[38;5;124m\"\u001b[39m\u001b[38;5;124mmonth_temp.csv\u001b[39m\u001b[38;5;124m\"\u001b[39m, \u001b[38;5;124m\"\u001b[39m\u001b[38;5;124mr\u001b[39m\u001b[38;5;124m\"\u001b[39m,encoding \u001b[38;5;241m=\u001b[39m\u001b[38;5;124m\"\u001b[39m\u001b[38;5;124mutf-8\u001b[39m\u001b[38;5;124m\"\u001b[39m)\u001b[38;5;28;01mas\u001b[39;00m f:\n\u001b[0;32m      5\u001b[0m     reader \u001b[38;5;241m=\u001b[39m csv\u001b[38;5;241m.\u001b[39mreader(f)\n\u001b[1;32m----> 6\u001b[0m     \u001b[38;5;28mnext\u001b[39m(reader)\n\u001b[0;32m      7\u001b[0m     \u001b[38;5;28;01mfor\u001b[39;00m row \u001b[38;5;129;01min\u001b[39;00m reader:\n\u001b[0;32m      8\u001b[0m         year \u001b[38;5;241m=\u001b[39m row[\u001b[38;5;241m0\u001b[39m][\u001b[38;5;241m0\u001b[39m:\u001b[38;5;241m4\u001b[39m]\n",
      "File \u001b[1;32m<frozen codecs>:322\u001b[0m, in \u001b[0;36mdecode\u001b[1;34m(self, input, final)\u001b[0m\n",
      "\u001b[1;31mUnicodeDecodeError\u001b[0m: 'utf-8' codec can't decode bytes in position 15-16: invalid continuation byte"
     ]
    }
   ],
   "source": [
    "#아래 코드를 완성하여 month_temp.csv의 날짜에서 연도를 추출해 출력하세요\n",
    "import csv\n",
    "\n",
    "with open(\"month_temp.csv\", \"r\",encoding =\"utf-8\")as f:\n",
    "    reader = csv.reader(f)\n",
    "    next(reader)\n",
    "    for row in reader:\n",
    "        year = row[0][0:4]\n",
    "        print(\"연도 : \",year)"
   ]
  },
  {
   "cell_type": "code",
   "execution_count": 210,
   "id": "b62b8e21-1617-464a-9b27-44f7c1b7877c",
   "metadata": {},
   "outputs": [
    {
     "name": "stdout",
     "output_type": "stream",
     "text": [
      "['서귀포', '50', '28', '20', '60']\n",
      "['제주시', '40', '27', '18', '55']\n",
      "['성산포', '30', '26', '19', '50']\n"
     ]
    }
   ],
   "source": [
    "#아래 코드를 완성하여 데이터를 섞은 후 최고기온 기준으로 정렬하세요\n",
    "import csv \n",
    "from random import shuffle as myrandom\n",
    "\n",
    "with open(\"jeju_2019.csv\",\"r\", encoding = \"utf-8\") as f:\n",
    "    reader = csv.reader(f)\n",
    "    header = next(reader)\n",
    "    data = list(reader)\n",
    "\n",
    "myrandom(data)\n",
    "data.sort(key = lambda x : float(x[2]), reverse = True)\n",
    "for row in data:\n",
    "    print(row)"
   ]
  },
  {
   "cell_type": "code",
   "execution_count": 214,
   "id": "ce3bde97-f5da-4693-adc9-67b573a659d0",
   "metadata": {},
   "outputs": [
    {
     "name": "stdout",
     "output_type": "stream",
     "text": [
      "[1, 2, 3]\n"
     ]
    }
   ],
   "source": [
    "#빈칸에 새로운 리스트 값을 넣어 원본 데이터가 변경되지 않도록 하세요.\n",
    "def modify_list(lst):\n",
    "    lst[0] = 1\n",
    "    lst[1] = 2\n",
    "    lst[2] = 3\n",
    "\n",
    "my_list = [1,2,3]\n",
    "modify_list(my_list)\n",
    "print(my_list)"
   ]
  },
  {
   "cell_type": "code",
   "execution_count": 218,
   "id": "ec116703-8e18-4998-8a6b-491e2d058d53",
   "metadata": {},
   "outputs": [
    {
     "name": "stdout",
     "output_type": "stream",
     "text": [
      "평균 :  3.0\n"
     ]
    }
   ],
   "source": [
    "#numpy의 평균 함수를 사용하여 배열의 평균을 구하는 코드를 완성하세요.\n",
    "import numpy as np\n",
    "data = [1,2,3,4,5]\n",
    "average = np.mean(data)\n",
    "print('평균 : ', average)"
   ]
  },
  {
   "cell_type": "code",
   "execution_count": 289,
   "id": "df5a7d87-b1d1-4b9d-a889-c4b5bf8fb1ac",
   "metadata": {},
   "outputs": [
    {
     "name": "stdout",
     "output_type": "stream",
     "text": [
      "공격력 : 11, 치명타 배수 : 1.0, 남은 채력 : 89\n",
      "공격력 : 13, 치명타 배수 : 1.0, 남은 채력 : 76\n",
      "공격력 : 10, 치명타 배수 : 1.0, 남은 채력 : 66\n",
      "공격력 : 13, 치명타 배수 : 1.0, 남은 채력 : 53\n",
      "공격력 : 10, 치명타 배수 : 1.0, 남은 채력 : 43\n",
      "공격력 : 11, 치명타 배수 : 9.0, 남은 채력 : -56\n",
      "플레이어가 쓰려졌습니다\n"
     ]
    }
   ],
   "source": [
    "#필요한 모듈을 활용하여 난수 기반 게임 시뮬레이션을 작성하세요.\n",
    "import random as r\n",
    "import math as m\n",
    "player_health = 100\n",
    "while player_health > 0:\n",
    "    #damage = 5~15 사이의 난수\n",
    "    damage = r.randint(5,15)\n",
    "    #critical_hit = 1~3 사이의 랜덤값의 제곱\n",
    "    critical_hit = m.pow(r.randint(1,3),2)\n",
    "    total_damage = damage * critical_hit\n",
    "    player_health -= total_damage\n",
    "    print(\"공격력 : %d, 치명타 배수 : %.1f, 남은 채력 : %d\"%(damage,critical_hit,player_health))\n",
    "print(\"플레이어가 쓰려졌습니다\")"
   ]
  },
  {
   "cell_type": "code",
   "execution_count": 327,
   "id": "991feed5-5fc5-4b91-a65d-47a8eaf4e199",
   "metadata": {},
   "outputs": [
    {
     "name": "stdout",
     "output_type": "stream",
     "text": [
      "현재 시간 : 2024년 11월 30일 17시 35분 30초\n"
     ]
    }
   ],
   "source": [
    "#아래 코드를 완성하여 현재의 연도, 월, 일, 시, 분, 초를 각각 출력하세요.\n",
    "from datetime import datetime\n",
    "\n",
    "today = datetime.now()\n",
    "\n",
    "print(\"현재 시간 : %d년 %d월 %d일 %d시 %d분 %d초\"%(today.year,today.month,today.day,today.hour,today.minute,today.second))"
   ]
  },
  {
   "cell_type": "code",
   "execution_count": 335,
   "id": "7a42073d-22b6-4764-8b1d-98e07623ffa3",
   "metadata": {},
   "outputs": [],
   "source": [
    "#아래 코드를 완성하여 연도 정보가 2019인 데이터만 출력\n",
    "import csv\n",
    "\n",
    "with open(\"jeju_2019.csv\",'r',encoding = 'utf-8') as f:\n",
    "    reader = csv.reader(f)\n",
    "    next(reader)\n",
    "    for row in reader:\n",
    "        if row[0:4] == 2019:\n",
    "            print(row)"
   ]
  },
  {
   "cell_type": "code",
   "execution_count": null,
   "id": "b3280424-5375-4537-adbf-7f4d2248d6ce",
   "metadata": {},
   "outputs": [],
   "source": []
  }
 ],
 "metadata": {
  "kernelspec": {
   "display_name": "Python 3 (ipykernel)",
   "language": "python",
   "name": "python3"
  },
  "language_info": {
   "codemirror_mode": {
    "name": "ipython",
    "version": 3
   },
   "file_extension": ".py",
   "mimetype": "text/x-python",
   "name": "python",
   "nbconvert_exporter": "python",
   "pygments_lexer": "ipython3",
   "version": "3.12.4"
  }
 },
 "nbformat": 4,
 "nbformat_minor": 5
}
